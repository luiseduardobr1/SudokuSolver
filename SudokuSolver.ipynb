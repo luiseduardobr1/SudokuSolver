{
 "cells": [
  {
   "cell_type": "code",
   "execution_count": 23,
   "metadata": {
    "ExecuteTime": {
     "end_time": "2020-05-12T01:48:05.014589Z",
     "start_time": "2020-05-12T01:48:05.009589Z"
    }
   },
   "outputs": [],
   "source": [
    "# Show all output's on Jupyter Notebook\n",
    "from IPython.core.interactiveshell import InteractiveShell\n",
    "InteractiveShell.ast_node_interactivity = \"all\""
   ]
  },
  {
   "cell_type": "code",
   "execution_count": 130,
   "metadata": {
    "ExecuteTime": {
     "end_time": "2020-05-12T02:52:47.023370Z",
     "start_time": "2020-05-12T02:52:45.878304Z"
    }
   },
   "outputs": [
    {
     "name": "stdout",
     "output_type": "stream",
     "text": [
      "[[5 3 0 0 7 0 0 0 0]\n",
      " [6 0 0 1 9 5 0 0 0]\n",
      " [0 9 8 0 0 0 0 6 0]\n",
      " [8 0 0 0 6 0 0 0 3]\n",
      " [4 0 0 8 0 3 0 0 1]\n",
      " [7 0 0 0 2 0 0 0 6]\n",
      " [0 6 0 0 0 0 2 8 0]\n",
      " [0 0 0 4 1 9 0 0 5]\n",
      " [0 0 0 0 8 0 0 0 0]]\n",
      "\n",
      "\n",
      "Possible solutions: \n",
      "\n",
      "\n",
      "[[5 3 4 6 7 8 1 9 2]\n",
      " [6 7 2 1 9 5 3 4 8]\n",
      " [1 9 8 3 4 2 5 6 7]\n",
      " [8 5 9 7 6 1 4 2 3]\n",
      " [4 2 6 8 5 3 9 7 1]\n",
      " [7 1 3 9 2 4 8 5 6]\n",
      " [9 6 1 5 3 7 2 8 4]\n",
      " [2 8 7 4 1 9 6 3 5]\n",
      " [3 4 5 2 8 6 7 1 9]]\n",
      "\n",
      "\n",
      "[[5 3 4 6 7 8 9 1 2]\n",
      " [6 7 2 1 9 5 3 4 8]\n",
      " [1 9 8 3 4 2 5 6 7]\n",
      " [8 5 9 7 6 1 4 2 3]\n",
      " [4 2 6 8 5 3 7 9 1]\n",
      " [7 1 3 9 2 4 8 5 6]\n",
      " [9 6 1 5 3 7 2 8 4]\n",
      " [2 8 7 4 1 9 6 3 5]\n",
      " [3 4 5 2 8 6 1 7 9]]\n"
     ]
    }
   ],
   "source": [
    "import numpy as np\n",
    "\n",
    "sudoku_matrix = np.array([[5,3,0,0,7,0,0,0,0],\n",
    "                    [6,0,0,1,9,5,0,0,0],\n",
    "                    [0,9,8,0,0,0,0,6,0],\n",
    "                    [8,0,0,0,6,0,0,0,3],\n",
    "                    [4,0,0,8,0,3,0,0,1],\n",
    "                    [7,0,0,0,2,0,0,0,6],\n",
    "                    [0,6,0,0,0,0,2,8,0],\n",
    "                    [0,0,0,4,1,9,0,0,5],\n",
    "                    [0,0,0,0,8,0,0,0,0]]).reshape(9,9)\n",
    "\n",
    "# First column and row\n",
    "print(sudoku_matrix)\n",
    "print('\\n')\n",
    "\n",
    "\n",
    "def condition_test(number, position_x, position_y):\n",
    "    # First condition - Same row\n",
    "    condition_1 = number in sudoku_matrix[position_x, :]\n",
    "    # Second condition - Same column\n",
    "    condition_2 = number in sudoku_matrix[:, position_y]\n",
    "    # Third condition - Same 3x3 matrix\n",
    "    condition_3 = number in sudoku_matrix[3*int(position_x/3) : 3+3*int(position_x/3) , 3*int(position_y/3) : 3+3*int(position_y/3)]\n",
    "    # If True, then, the three conditions are valid\n",
    "    return(not (condition_1 or condition_2 or condition_3))\n",
    "\n",
    "\n",
    "\n",
    "def solve_sudoku(sudoku_matrix):\n",
    "    for j in range(len(sudoku_matrix)):\n",
    "        for i in range(len(sudoku_matrix)):\n",
    "            if sudoku_matrix[j, i] == 0:\n",
    "                for value in range(1, 10):\n",
    "                    condition_satisfy = condition_test(value, j, i)                 \n",
    "                    if condition_satisfy == True:\n",
    "                        sudoku_matrix[j, i] = value\n",
    "                        solve_sudoku(sudoku_matrix)\n",
    "                        sudoku_matrix[j, i] = 0\n",
    "                return  \n",
    "    print('\\n')\n",
    "    print(sudoku_matrix)\n",
    "                    \n",
    "                        \n",
    "                        \n",
    "    \n",
    "print('Possible solutions: ')\n",
    "solve_sudoku(sudoku_matrix)"
   ]
  }
 ],
 "metadata": {
  "hide_input": false,
  "kernelspec": {
   "display_name": "Python 3",
   "language": "python",
   "name": "python3"
  },
  "language_info": {
   "codemirror_mode": {
    "name": "ipython",
    "version": 3
   },
   "file_extension": ".py",
   "mimetype": "text/x-python",
   "name": "python",
   "nbconvert_exporter": "python",
   "pygments_lexer": "ipython3",
   "version": "3.7.6"
  },
  "toc": {
   "base_numbering": 1,
   "nav_menu": {},
   "number_sections": true,
   "sideBar": true,
   "skip_h1_title": false,
   "title_cell": "Table of Contents",
   "title_sidebar": "Contents",
   "toc_cell": false,
   "toc_position": {},
   "toc_section_display": true,
   "toc_window_display": false
  },
  "varInspector": {
   "cols": {
    "lenName": 16,
    "lenType": 16,
    "lenVar": 40
   },
   "kernels_config": {
    "python": {
     "delete_cmd_postfix": "",
     "delete_cmd_prefix": "del ",
     "library": "var_list.py",
     "varRefreshCmd": "print(var_dic_list())"
    },
    "r": {
     "delete_cmd_postfix": ") ",
     "delete_cmd_prefix": "rm(",
     "library": "var_list.r",
     "varRefreshCmd": "cat(var_dic_list()) "
    }
   },
   "types_to_exclude": [
    "module",
    "function",
    "builtin_function_or_method",
    "instance",
    "_Feature"
   ],
   "window_display": false
  }
 },
 "nbformat": 4,
 "nbformat_minor": 4
}
